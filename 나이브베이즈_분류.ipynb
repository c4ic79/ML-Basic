{
  "nbformat": 4,
  "nbformat_minor": 0,
  "metadata": {
    "colab": {
      "name": "나이브베이즈 분류",
      "provenance": [],
      "authorship_tag": "ABX9TyPQPxqvMSLYvhp21T9a6Njv",
      "include_colab_link": true
    },
    "kernelspec": {
      "name": "python3",
      "display_name": "Python 3"
    },
    "language_info": {
      "name": "python"
    }
  },
  "cells": [
    {
      "cell_type": "markdown",
      "metadata": {
        "id": "view-in-github",
        "colab_type": "text"
      },
      "source": [
        "<a href=\"https://colab.research.google.com/github/c4ic79/ML-Basic/blob/main/%EB%82%98%EC%9D%B4%EB%B8%8C%EB%B2%A0%EC%9D%B4%EC%A6%88_%EB%B6%84%EB%A5%98.ipynb\" target=\"_parent\"><img src=\"https://colab.research.google.com/assets/colab-badge.svg\" alt=\"Open In Colab\"/></a>"
      ]
    },
    {
      "cell_type": "code",
      "metadata": {
        "id": "pcKUraNcymZY"
      },
      "source": [
        "#독립변수간의 상관관계가 없음을 가정\n",
        "#나이브베이즈분류기:데이터가 각 클래스에 속할 특징확률을 계산\n",
        "#n개의 특징을 가진 샘플데이터 x개가 주어졌을때 k개의 클래스 중 하나에 속할 확률을 결정\n",
        "#설명변수가 연속 ->가우시안나이브베이즈\n",
        "from sklearn import datasets\n",
        "from sklearn.naive_bayes import GaussianNB"
      ],
      "execution_count": 4,
      "outputs": []
    },
    {
      "cell_type": "code",
      "metadata": {
        "id": "ZEb6wfS6AG1r"
      },
      "source": [
        "import pandas as pd"
      ],
      "execution_count": 6,
      "outputs": []
    },
    {
      "cell_type": "code",
      "metadata": {
        "id": "jM4Ok0adAId4"
      },
      "source": [
        "iris=datasets.load_iris()\n",
        "X=pd.DataFrame(iris.data)\n",
        "Y=pd.DataFrame(iris.target)"
      ],
      "execution_count": 10,
      "outputs": []
    },
    {
      "cell_type": "code",
      "metadata": {
        "colab": {
          "base_uri": "https://localhost:8080/",
          "height": 204
        },
        "id": "XTdQyv89ATaI",
        "outputId": "4b19d2bc-1a5d-495a-c756-8991f6b3ce2a"
      },
      "source": [
        "X.head()"
      ],
      "execution_count": 11,
      "outputs": [
        {
          "output_type": "execute_result",
          "data": {
            "text/html": [
              "<div>\n",
              "<style scoped>\n",
              "    .dataframe tbody tr th:only-of-type {\n",
              "        vertical-align: middle;\n",
              "    }\n",
              "\n",
              "    .dataframe tbody tr th {\n",
              "        vertical-align: top;\n",
              "    }\n",
              "\n",
              "    .dataframe thead th {\n",
              "        text-align: right;\n",
              "    }\n",
              "</style>\n",
              "<table border=\"1\" class=\"dataframe\">\n",
              "  <thead>\n",
              "    <tr style=\"text-align: right;\">\n",
              "      <th></th>\n",
              "      <th>0</th>\n",
              "      <th>1</th>\n",
              "      <th>2</th>\n",
              "      <th>3</th>\n",
              "    </tr>\n",
              "  </thead>\n",
              "  <tbody>\n",
              "    <tr>\n",
              "      <th>0</th>\n",
              "      <td>5.1</td>\n",
              "      <td>3.5</td>\n",
              "      <td>1.4</td>\n",
              "      <td>0.2</td>\n",
              "    </tr>\n",
              "    <tr>\n",
              "      <th>1</th>\n",
              "      <td>4.9</td>\n",
              "      <td>3.0</td>\n",
              "      <td>1.4</td>\n",
              "      <td>0.2</td>\n",
              "    </tr>\n",
              "    <tr>\n",
              "      <th>2</th>\n",
              "      <td>4.7</td>\n",
              "      <td>3.2</td>\n",
              "      <td>1.3</td>\n",
              "      <td>0.2</td>\n",
              "    </tr>\n",
              "    <tr>\n",
              "      <th>3</th>\n",
              "      <td>4.6</td>\n",
              "      <td>3.1</td>\n",
              "      <td>1.5</td>\n",
              "      <td>0.2</td>\n",
              "    </tr>\n",
              "    <tr>\n",
              "      <th>4</th>\n",
              "      <td>5.0</td>\n",
              "      <td>3.6</td>\n",
              "      <td>1.4</td>\n",
              "      <td>0.2</td>\n",
              "    </tr>\n",
              "  </tbody>\n",
              "</table>\n",
              "</div>"
            ],
            "text/plain": [
              "     0    1    2    3\n",
              "0  5.1  3.5  1.4  0.2\n",
              "1  4.9  3.0  1.4  0.2\n",
              "2  4.7  3.2  1.3  0.2\n",
              "3  4.6  3.1  1.5  0.2\n",
              "4  5.0  3.6  1.4  0.2"
            ]
          },
          "metadata": {
            "tags": []
          },
          "execution_count": 11
        }
      ]
    },
    {
      "cell_type": "code",
      "metadata": {
        "colab": {
          "base_uri": "https://localhost:8080/",
          "height": 204
        },
        "id": "ftmIl-A3AWJC",
        "outputId": "1d270303-461a-4124-9749-4c941de9c3ac"
      },
      "source": [
        "Y.head()"
      ],
      "execution_count": 13,
      "outputs": [
        {
          "output_type": "execute_result",
          "data": {
            "text/html": [
              "<div>\n",
              "<style scoped>\n",
              "    .dataframe tbody tr th:only-of-type {\n",
              "        vertical-align: middle;\n",
              "    }\n",
              "\n",
              "    .dataframe tbody tr th {\n",
              "        vertical-align: top;\n",
              "    }\n",
              "\n",
              "    .dataframe thead th {\n",
              "        text-align: right;\n",
              "    }\n",
              "</style>\n",
              "<table border=\"1\" class=\"dataframe\">\n",
              "  <thead>\n",
              "    <tr style=\"text-align: right;\">\n",
              "      <th></th>\n",
              "      <th>0</th>\n",
              "    </tr>\n",
              "  </thead>\n",
              "  <tbody>\n",
              "    <tr>\n",
              "      <th>0</th>\n",
              "      <td>0</td>\n",
              "    </tr>\n",
              "    <tr>\n",
              "      <th>1</th>\n",
              "      <td>0</td>\n",
              "    </tr>\n",
              "    <tr>\n",
              "      <th>2</th>\n",
              "      <td>0</td>\n",
              "    </tr>\n",
              "    <tr>\n",
              "      <th>3</th>\n",
              "      <td>0</td>\n",
              "    </tr>\n",
              "    <tr>\n",
              "      <th>4</th>\n",
              "      <td>0</td>\n",
              "    </tr>\n",
              "  </tbody>\n",
              "</table>\n",
              "</div>"
            ],
            "text/plain": [
              "   0\n",
              "0  0\n",
              "1  0\n",
              "2  0\n",
              "3  0\n",
              "4  0"
            ]
          },
          "metadata": {
            "tags": []
          },
          "execution_count": 13
        }
      ]
    },
    {
      "cell_type": "code",
      "metadata": {
        "colab": {
          "base_uri": "https://localhost:8080/"
        },
        "id": "dvXJQ16GAhtI",
        "outputId": "b158ec12-3e3d-47df-d8b0-924efed771cf"
      },
      "source": [
        "gnb=GaussianNB()\n",
        "fitted=gnb.fit(X,Y)\n",
        "y_pred=fitted.predict(X)"
      ],
      "execution_count": 15,
      "outputs": [
        {
          "output_type": "stream",
          "text": [
            "/usr/local/lib/python3.7/dist-packages/sklearn/naive_bayes.py:206: DataConversionWarning: A column-vector y was passed when a 1d array was expected. Please change the shape of y to (n_samples, ), for example using ravel().\n",
            "  y = column_or_1d(y, warn=True)\n"
          ],
          "name": "stderr"
        }
      ]
    },
    {
      "cell_type": "code",
      "metadata": {
        "colab": {
          "base_uri": "https://localhost:8080/"
        },
        "id": "9dfRT6MaBYXu",
        "outputId": "fe62a4d1-0e3e-4587-bccb-734f6e2d3704"
      },
      "source": [
        "fitted.predict_proba(X)[[1,48,51,100]] #0,1,2일 확률\n",
        "fitted.predict(X)[[1,48,51,100]]"
      ],
      "execution_count": 19,
      "outputs": [
        {
          "output_type": "execute_result",
          "data": {
            "text/plain": [
              "array([0, 0, 1, 2])"
            ]
          },
          "metadata": {
            "tags": []
          },
          "execution_count": 19
        }
      ]
    },
    {
      "cell_type": "code",
      "metadata": {
        "id": "AoR-rJesB_4P"
      },
      "source": [
        "#confusion matrix : 예측성능을 측정하기 위해 예측값과 실제값을 비교하기 위한 표\n",
        "from sklearn.metrics import confusion_matrix\n"
      ],
      "execution_count": 21,
      "outputs": []
    },
    {
      "cell_type": "code",
      "metadata": {
        "colab": {
          "base_uri": "https://localhost:8080/"
        },
        "id": "jv8VsXqvDdYS",
        "outputId": "41d3482f-b9b9-42e5-9e16-2b2a458d92b6"
      },
      "source": [
        "confusion_matrix(iris.target,y_pred)"
      ],
      "execution_count": 31,
      "outputs": [
        {
          "output_type": "execute_result",
          "data": {
            "text/plain": [
              "array([[50,  0,  0],\n",
              "       [ 0, 47,  3],\n",
              "       [ 0,  3, 47]])"
            ]
          },
          "metadata": {
            "tags": []
          },
          "execution_count": 31
        }
      ]
    },
    {
      "cell_type": "code",
      "metadata": {
        "colab": {
          "base_uri": "https://localhost:8080/"
        },
        "id": "CSgKHn_KDwPY",
        "outputId": "ba375150-4850-4c86-e64d-36f29869e6fd"
      },
      "source": [
        "#특정 결과의 출현확률이 더 많다고 가중치를 주는 행위\n",
        "gnb2=GaussianNB(priors=[1/100,98/100,1/100])\n",
        "\n",
        "fitted2=gnb2.fit(X,Y)\n",
        "y_pred2=fitted2.predict(X)\n",
        "confusion_matrix(iris.target,y_pred2)"
      ],
      "execution_count": 33,
      "outputs": [
        {
          "output_type": "stream",
          "text": [
            "/usr/local/lib/python3.7/dist-packages/sklearn/naive_bayes.py:206: DataConversionWarning: A column-vector y was passed when a 1d array was expected. Please change the shape of y to (n_samples, ), for example using ravel().\n",
            "  y = column_or_1d(y, warn=True)\n"
          ],
          "name": "stderr"
        },
        {
          "output_type": "execute_result",
          "data": {
            "text/plain": [
              "array([[50,  0,  0],\n",
              "       [ 0, 50,  0],\n",
              "       [ 0, 14, 36]])"
            ]
          },
          "metadata": {
            "tags": []
          },
          "execution_count": 33
        }
      ]
    },
    {
      "cell_type": "code",
      "metadata": {
        "id": "jmvXvILFFnnO"
      },
      "source": [
        "from sklearn.naive_bayes import MultinomialNB\n",
        "import numpy as np\n",
        "\n",
        "X=np.random.randint(5,size=(6,100))\n",
        "y=np.array([1,2,3,4,5,6])"
      ],
      "execution_count": 38,
      "outputs": []
    },
    {
      "cell_type": "code",
      "metadata": {
        "colab": {
          "base_uri": "https://localhost:8080/"
        },
        "id": "aYfWTt9BH6RH",
        "outputId": "1499e107-3094-443b-d6f1-62d45d0b5e08"
      },
      "source": [
        "X"
      ],
      "execution_count": 39,
      "outputs": [
        {
          "output_type": "execute_result",
          "data": {
            "text/plain": [
              "array([[1, 4, 3, 3, 4, 2, 1, 2, 3, 2, 1, 3, 4, 1, 4, 0, 0, 4, 3, 2, 2, 4,\n",
              "        3, 1, 1, 0, 1, 0, 2, 2, 0, 4, 0, 1, 4, 2, 4, 2, 2, 1, 2, 1, 3, 2,\n",
              "        0, 0, 1, 3, 0, 4, 4, 3, 3, 2, 2, 2, 2, 0, 4, 3, 1, 2, 4, 3, 1, 2,\n",
              "        0, 1, 3, 0, 3, 1, 3, 0, 3, 0, 2, 3, 1, 0, 4, 0, 3, 4, 0, 0, 2, 0,\n",
              "        2, 1, 4, 2, 4, 4, 4, 4, 1, 3, 2, 1],\n",
              "       [4, 4, 2, 4, 0, 4, 4, 3, 4, 0, 2, 0, 3, 4, 0, 1, 4, 0, 1, 1, 3, 0,\n",
              "        1, 0, 0, 1, 2, 0, 3, 1, 1, 3, 4, 3, 4, 3, 3, 3, 3, 0, 4, 1, 1, 1,\n",
              "        3, 2, 1, 1, 3, 0, 1, 0, 2, 0, 4, 0, 1, 0, 1, 3, 4, 1, 3, 1, 0, 2,\n",
              "        1, 3, 0, 3, 0, 2, 4, 0, 1, 1, 2, 3, 3, 4, 2, 2, 3, 1, 2, 3, 2, 3,\n",
              "        4, 2, 1, 2, 1, 4, 1, 0, 3, 2, 1, 0],\n",
              "       [0, 3, 3, 3, 1, 0, 4, 2, 0, 1, 0, 4, 1, 1, 4, 3, 1, 2, 2, 0, 2, 0,\n",
              "        4, 3, 1, 0, 3, 2, 1, 0, 4, 1, 2, 4, 4, 2, 4, 4, 1, 3, 3, 3, 2, 1,\n",
              "        4, 3, 2, 4, 1, 3, 2, 4, 2, 1, 3, 1, 0, 2, 1, 2, 2, 4, 4, 1, 1, 4,\n",
              "        2, 0, 3, 4, 4, 2, 2, 1, 4, 1, 4, 3, 3, 4, 3, 1, 4, 4, 0, 1, 0, 0,\n",
              "        1, 2, 2, 0, 3, 3, 0, 3, 0, 4, 0, 0],\n",
              "       [2, 1, 1, 0, 4, 4, 0, 4, 4, 1, 2, 0, 3, 2, 2, 3, 3, 4, 1, 0, 2, 3,\n",
              "        2, 2, 0, 0, 3, 1, 4, 3, 1, 2, 2, 4, 0, 0, 0, 3, 3, 3, 0, 3, 3, 0,\n",
              "        2, 3, 4, 4, 0, 1, 3, 3, 0, 2, 3, 1, 1, 0, 0, 3, 3, 2, 2, 4, 4, 1,\n",
              "        1, 0, 0, 3, 0, 0, 3, 0, 4, 2, 2, 0, 3, 1, 1, 3, 1, 4, 1, 1, 3, 2,\n",
              "        2, 4, 2, 2, 1, 1, 3, 1, 3, 1, 1, 0],\n",
              "       [1, 1, 3, 2, 3, 4, 3, 2, 0, 2, 1, 3, 1, 1, 0, 3, 1, 1, 0, 2, 3, 3,\n",
              "        0, 0, 1, 0, 3, 3, 0, 0, 2, 1, 2, 4, 0, 4, 1, 0, 2, 3, 0, 2, 4, 4,\n",
              "        4, 2, 0, 0, 2, 2, 4, 3, 4, 0, 2, 0, 4, 2, 3, 0, 4, 0, 2, 2, 0, 2,\n",
              "        0, 4, 2, 3, 3, 1, 4, 1, 1, 0, 0, 2, 0, 3, 1, 2, 2, 4, 1, 2, 3, 2,\n",
              "        4, 4, 3, 1, 0, 3, 4, 3, 0, 3, 0, 4],\n",
              "       [2, 0, 1, 0, 1, 3, 1, 0, 0, 2, 4, 3, 1, 0, 3, 4, 0, 0, 4, 0, 1, 4,\n",
              "        0, 0, 1, 0, 0, 3, 3, 2, 4, 4, 2, 2, 2, 2, 0, 1, 1, 1, 1, 3, 4, 2,\n",
              "        1, 1, 4, 1, 3, 1, 2, 4, 4, 3, 2, 1, 2, 4, 2, 3, 2, 3, 3, 1, 4, 1,\n",
              "        4, 0, 3, 4, 0, 2, 1, 2, 1, 0, 3, 2, 2, 1, 0, 2, 1, 4, 0, 0, 2, 0,\n",
              "        2, 4, 0, 3, 2, 1, 2, 0, 3, 1, 2, 0]])"
            ]
          },
          "metadata": {
            "tags": []
          },
          "execution_count": 39
        }
      ]
    },
    {
      "cell_type": "code",
      "metadata": {
        "colab": {
          "base_uri": "https://localhost:8080/"
        },
        "id": "afxoqHvHIBWp",
        "outputId": "3cbec856-4a92-4748-f281-f7dcd45e4a1c"
      },
      "source": [
        "y"
      ],
      "execution_count": 40,
      "outputs": [
        {
          "output_type": "execute_result",
          "data": {
            "text/plain": [
              "array([1, 2, 3, 4, 5, 6])"
            ]
          },
          "metadata": {
            "tags": []
          },
          "execution_count": 40
        }
      ]
    },
    {
      "cell_type": "code",
      "metadata": {
        "colab": {
          "base_uri": "https://localhost:8080/"
        },
        "id": "Pcp2YNOeIDSx",
        "outputId": "347a300c-a821-46c2-e84e-ba014e0d6445"
      },
      "source": [
        "clf=MultinomialNB()\n",
        "clf.fit(X,y)"
      ],
      "execution_count": 42,
      "outputs": [
        {
          "output_type": "execute_result",
          "data": {
            "text/plain": [
              "MultinomialNB(alpha=1.0, class_prior=None, fit_prior=True)"
            ]
          },
          "metadata": {
            "tags": []
          },
          "execution_count": 42
        }
      ]
    },
    {
      "cell_type": "code",
      "metadata": {
        "colab": {
          "base_uri": "https://localhost:8080/"
        },
        "id": "KuqUD2EGIOtv",
        "outputId": "9a778893-3388-476c-f04c-2012954be6ce"
      },
      "source": [
        "print(clf.predict(X[1:3]))"
      ],
      "execution_count": 43,
      "outputs": [
        {
          "output_type": "stream",
          "text": [
            "[2 3]\n"
          ],
          "name": "stdout"
        }
      ]
    },
    {
      "cell_type": "code",
      "metadata": {
        "colab": {
          "base_uri": "https://localhost:8080/"
        },
        "id": "jIduym8nIshE",
        "outputId": "cd064684-6538-4c49-8f38-87d86cfbcf13"
      },
      "source": [
        "clf.predict_proba(X[2:3])"
      ],
      "execution_count": 45,
      "outputs": [
        {
          "output_type": "execute_result",
          "data": {
            "text/plain": [
              "array([[1.99678315e-28, 1.90514778e-34, 1.00000000e+00, 2.26101891e-36,\n",
              "        4.74324017e-35, 9.04791988e-34]])"
            ]
          },
          "metadata": {
            "tags": []
          },
          "execution_count": 45
        }
      ]
    },
    {
      "cell_type": "code",
      "metadata": {
        "colab": {
          "base_uri": "https://localhost:8080/"
        },
        "id": "0rMm1OXdJLxI",
        "outputId": "8a02e032-8117-4fae-aa89-4332da8d0ede"
      },
      "source": [
        "clf2=MultinomialNB(class_prior=[0.1,0.5,0.1,0.1,0.1,0.1])\n",
        "clf2.fit(X,y)"
      ],
      "execution_count": 52,
      "outputs": [
        {
          "output_type": "execute_result",
          "data": {
            "text/plain": [
              "MultinomialNB(alpha=1.0, class_prior=[0.1, 0.5, 0.1, 0.1, 0.1, 0.1],\n",
              "              fit_prior=True)"
            ]
          },
          "metadata": {
            "tags": []
          },
          "execution_count": 52
        }
      ]
    },
    {
      "cell_type": "code",
      "metadata": {
        "colab": {
          "base_uri": "https://localhost:8080/"
        },
        "id": "VJZGgfVAKDrH",
        "outputId": "005a7196-4aaf-4816-e572-179958df37a5"
      },
      "source": [
        "clf2.predict_proba(X[2:3])"
      ],
      "execution_count": 54,
      "outputs": [
        {
          "output_type": "execute_result",
          "data": {
            "text/plain": [
              "array([[1.99678315e-28, 9.52573891e-34, 1.00000000e+00, 2.26101891e-36,\n",
              "        4.74324017e-35, 9.04791988e-34]])"
            ]
          },
          "metadata": {
            "tags": []
          },
          "execution_count": 54
        }
      ]
    }
  ]
}